{
 "cells": [
  {
   "cell_type": "code",
   "execution_count": null,
   "id": "initial_id",
   "metadata": {
    "ExecuteTime": {
     "end_time": "2023-10-06T13:43:15.881775900Z",
     "start_time": "2023-10-06T13:43:05.683099400Z"
    }
   },
   "outputs": [],
   "source": [
    "!pip install transformers"
   ]
  },
  {
   "cell_type": "code",
   "execution_count": null,
   "id": "30264e667a97a283",
   "metadata": {
    "ExecuteTime": {
     "end_time": "2023-10-06T13:46:40.042542600Z",
     "start_time": "2023-10-06T13:46:32.307173400Z"
    }
   },
   "outputs": [],
   "source": [
    "!pip cache purge\n",
    "!python -m transformers.purge"
   ]
  },
  {
   "cell_type": "code",
   "execution_count": null,
   "id": "165ea868",
   "metadata": {},
   "outputs": [],
   "source": [
    "!pip install numpy==1.18.5"
   ]
  },
  {
   "cell_type": "code",
   "execution_count": null,
   "id": "1d666342",
   "metadata": {},
   "outputs": [],
   "source": [
    "!pip install --upgrade scipy"
   ]
  },
  {
   "cell_type": "code",
   "execution_count": 3,
   "id": "96e437d051ddac97",
   "metadata": {
    "ExecuteTime": {
     "end_time": "2023-10-06T13:47:56.088175200Z",
     "start_time": "2023-10-06T13:47:55.980532500Z"
    }
   },
   "outputs": [
    {
     "name": "stdout",
     "output_type": "stream",
     "text": [
      "4.23.1\n"
     ]
    }
   ],
   "source": [
    "import transformers\n",
    "print(transformers.__version__)"
   ]
  },
  {
   "cell_type": "code",
   "execution_count": 4,
   "id": "cef106681d78fd2",
   "metadata": {
    "ExecuteTime": {
     "end_time": "2023-10-06T13:48:22.874638700Z",
     "start_time": "2023-10-06T13:48:21.098984500Z"
    }
   },
   "outputs": [
    {
     "name": "stderr",
     "output_type": "stream",
     "text": [
      "C:\\Users\\KIIT\\AppData\\Local\\Packages\\PythonSoftwareFoundation.Python.3.9_qbz5n2kfra8p0\\LocalCache\\local-packages\\Python39\\site-packages\\scipy\\__init__.py:155: UserWarning: A NumPy version >=1.18.5 and <1.25.0 is required for this version of SciPy (detected version 1.26.0\n",
      "  warnings.warn(f\"A NumPy version >={np_minversion} and <{np_maxversion}\"\n"
     ]
    }
   ],
   "source": [
    "import requests\n",
    "from transformers import AutoTokenizer, AutoModelForCausalLM\n",
    "from transformers import pipeline"
   ]
  },
  {
   "cell_type": "code",
   "execution_count": null,
   "id": "6f538f3fb966cdae",
   "metadata": {},
   "outputs": [],
   "source": []
  }
 ],
 "metadata": {
  "kernelspec": {
   "display_name": "Python 3 (ipykernel)",
   "language": "python",
   "name": "python3"
  },
  "language_info": {
   "codemirror_mode": {
    "name": "ipython",
    "version": 3
   },
   "file_extension": ".py",
   "mimetype": "text/x-python",
   "name": "python",
   "nbconvert_exporter": "python",
   "pygments_lexer": "ipython3",
   "version": "3.9.12"
  }
 },
 "nbformat": 4,
 "nbformat_minor": 5
}
